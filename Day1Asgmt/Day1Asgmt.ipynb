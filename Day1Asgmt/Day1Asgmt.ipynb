{
 "cells": [
  {
   "cell_type": "markdown",
   "id": "42ddbb1a",
   "metadata": {},
   "source": [
    "November 17, 2021<br/>\n",
    "<br/>\n",
    "Diane Granger<br/>\n",
    "dianeegranger@gmail.com<br/>\n",
    "<br/>\n",
    "Day 1 Assignment<br/>\n",
    "Python Essentials Zero to Hero<br/>\n",
    "LetsUpgrade<br/>\n",
    "<br/>\n",
    "Instructor:  Kamal Seth<br/>"
   ]
  },
  {
   "cell_type": "markdown",
   "id": "835948d0",
   "metadata": {},
   "source": [
    "### Day 1 Assignment \n",
    "\n",
    "Install Python, install favourite text editor, run hello world \n"
   ]
  },
  {
   "cell_type": "code",
   "execution_count": 1,
   "id": "a19c7340",
   "metadata": {},
   "outputs": [
    {
     "name": "stdout",
     "output_type": "stream",
     "text": [
      "Hello, World!\n"
     ]
    }
   ],
   "source": [
    "print (\"Hello, World!\")"
   ]
  },
  {
   "cell_type": "code",
   "execution_count": 2,
   "id": "024f7ea4",
   "metadata": {},
   "outputs": [
    {
     "name": "stdout",
     "output_type": "stream",
     "text": [
      "2+3\n"
     ]
    }
   ],
   "source": [
    "print (\"2+3\")"
   ]
  },
  {
   "cell_type": "code",
   "execution_count": 3,
   "id": "8bee1455",
   "metadata": {},
   "outputs": [
    {
     "name": "stdout",
     "output_type": "stream",
     "text": [
      "Addition of 2 + 3 is:  5\n"
     ]
    }
   ],
   "source": [
    "print (f\"Addition of 2 + 3 is:  {2+3}\")"
   ]
  },
  {
   "cell_type": "code",
   "execution_count": 4,
   "id": "2660b0fd",
   "metadata": {},
   "outputs": [
    {
     "name": "stdout",
     "output_type": "stream",
     "text": [
      "Mul of 2 & 3 is:  6\n"
     ]
    }
   ],
   "source": [
    "print (f\"Mul of 2 & 3 is:  {2*3}\")"
   ]
  },
  {
   "cell_type": "code",
   "execution_count": 5,
   "id": "76e4ffe4",
   "metadata": {},
   "outputs": [
    {
     "name": "stdout",
     "output_type": "stream",
     "text": [
      "Sum of 2 and 3:  5 \n",
      "Mul of 2 and 3:  6\n"
     ]
    }
   ],
   "source": [
    "print (f\"Sum of 2 and 3:  {2+3} \\nMul of 2 and 3:  {2*3}\")"
   ]
  },
  {
   "cell_type": "code",
   "execution_count": 6,
   "id": "a55e3d13",
   "metadata": {},
   "outputs": [
    {
     "name": "stdout",
     "output_type": "stream",
     "text": [
      "Name:  Lets Upgrade\n"
     ]
    }
   ],
   "source": [
    "name = \"Lets Upgrade\" # comment assigning of variable\n",
    "print (f\"Name: \", name)"
   ]
  },
  {
   "cell_type": "code",
   "execution_count": 7,
   "id": "0c3f08b9",
   "metadata": {},
   "outputs": [
    {
     "name": "stdout",
     "output_type": "stream",
     "text": [
      "Age:  10\n"
     ]
    }
   ],
   "source": [
    "age = 10\n",
    "print (f\"Age: \", age)"
   ]
  }
 ],
 "metadata": {
  "kernelspec": {
   "display_name": "Python 3",
   "language": "python",
   "name": "python3"
  },
  "language_info": {
   "codemirror_mode": {
    "name": "ipython",
    "version": 3
   },
   "file_extension": ".py",
   "mimetype": "text/x-python",
   "name": "python",
   "nbconvert_exporter": "python",
   "pygments_lexer": "ipython3",
   "version": "3.8.8"
  }
 },
 "nbformat": 4,
 "nbformat_minor": 5
}
